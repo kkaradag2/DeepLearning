{
  "nbformat": 4,
  "nbformat_minor": 0,
  "metadata": {
    "colab": {
      "provenance": [],
      "authorship_tag": "ABX9TyNtqUV10lieqInQSPsiCxmU",
      "include_colab_link": true
    },
    "kernelspec": {
      "name": "python3",
      "display_name": "Python 3"
    },
    "language_info": {
      "name": "python"
    }
  },
  "cells": [
    {
      "cell_type": "markdown",
      "metadata": {
        "id": "view-in-github",
        "colab_type": "text"
      },
      "source": [
        "<a href=\"https://colab.research.google.com/github/kkaradag2/TensorFlow/blob/main/02_Tensor_Temel_Kavramlar.ipynb\" target=\"_parent\"><img src=\"https://colab.research.google.com/assets/colab-badge.svg\" alt=\"Open In Colab\"/></a>"
      ]
    },
    {
      "cell_type": "markdown",
      "source": [
        "\n",
        "### Tensör Nedir?\n",
        "\n",
        "Bir **tensör**, skaler (0 boyutlu), vektör (1 boyutlu), matris (2 boyutlu) gibi temel yapıların genelleştirilmiş hâlidir. Yani tensör, farklı boyutlardaki verileri temsil edebilen çok boyutlu bir matematiksel veri yapısıdır.\n",
        "\n",
        "Makine öğrenmesi ve özellikle derin öğrenme uygulamalarında, veriler tensörler aracılığıyla ifade edilir. TensorFlow gibi kütüphaneler bu yapı üzerinde işlem yaparak modelleri eğitir ve tahmin üretir.\n",
        "\n",
        "### Tensör Boyutları ve Örnekleri\n",
        "\n",
        "| Yapı       | Boyut (Rank) | Açıklama                         | Örnek                     |\n",
        "|------------|--------------|----------------------------------|----------------------------|\n",
        "| Skaler     | 0            | Tek bir sayı                     | `4`                        |\n",
        "| Vektör     | 1            | Sayılardan oluşan bir sıra       | `[4, 7, 9]`                |\n",
        "| Matris     | 2            | Satır ve sütunlardan oluşur      | `[[1, 2], [3, 4]]`         |\n",
        "| 3D Tensör  | 3            | Katmanlı matrisler               | `[[[1], [2]], [[3], [4]]]` |\n",
        "| nD Tensör  | n            | Daha yüksek boyutlu yapılardır   | Çok boyutlu veri kümeleri |\n",
        "\n",
        "\n",
        "Tensörün **rank** değeri, onun kaç boyutlu olduğunu belirtir. Örneğin bir `rank=2` tensör, bir matristir.\n",
        "\n",
        "Tensörler, TensorFlow içinde genellikle `tf.constant`, `tf.Variable` gibi yapılarla tanımlanır ve işlenir.\n",
        "\n",
        "TensorFlow ile tensorler üzerind eçalışabilmek için öncelikle projemize tenserFlow kütüpanesi eklenmelidir.\n"
      ],
      "metadata": {
        "id": "bs-Z_P5s1JQO"
      }
    },
    {
      "cell_type": "code",
      "source": [
        "# TensorFlow kütüphanesinin tf olarak kısaltılması yaygın bir pratiktir\n",
        "import tensorflow as tf\n",
        "print(tf.__version__)\n"
      ],
      "metadata": {
        "colab": {
          "base_uri": "https://localhost:8080/"
        },
        "id": "7aQoa-GU1Wre",
        "outputId": "632ab028-c24a-4d5f-aeb6-8808d1389b70"
      },
      "execution_count": 2,
      "outputs": [
        {
          "output_type": "stream",
          "name": "stdout",
          "text": [
            "2.18.0\n"
          ]
        }
      ]
    },
    {
      "cell_type": "markdown",
      "source": [
        "## TensorFlow ile Tensörlere Giriş\n",
        "\n",
        "Tensörler, TensorFlow içerisinde genellikle `tf.constant` ve `tf.Variable` gibi yapılar kullanılarak oluşturulur.  \n",
        "Bu bölümde, tensörlerin nasıl tanımlandığını ve farklı boyutlarda nasıl temsil edildiklerini inceleyeceğiz.\n",
        "\n",
        "\n",
        "### `tf.constant` ile Tensör Oluşturma\n",
        "\n",
        "`tf.constant`, sabit (değiştirilemeyen) tensörler tanımlamak için kullanılır.  \n",
        "Makine öğrenmesi uygulamalarında genellikle sabit değerleri tanımlamak veya örnek veriler oluşturmak için tercih edilir.\n",
        "\n",
        "\n",
        "### Skaler (0-Boyutlu) Tensör\n",
        "\n",
        "Skaler, yalnızca **tek bir sayı** içeren ve boyutu olmayan bir tensördür. TensorFlow’da bu yapı şu şekilde oluşturulabilir:\n"
      ],
      "metadata": {
        "id": "tRbFyEkH2FHo"
      }
    },
    {
      "cell_type": "code",
      "source": [
        "scaler = tf.constant(7)\n",
        "scaler"
      ],
      "metadata": {
        "colab": {
          "base_uri": "https://localhost:8080/"
        },
        "id": "ieemN_st4dKy",
        "outputId": "72fbcdf9-7476-4e65-f472-7227938925af"
      },
      "execution_count": 3,
      "outputs": [
        {
          "output_type": "execute_result",
          "data": {
            "text/plain": [
              "<tf.Tensor: shape=(), dtype=int32, numpy=7>"
            ]
          },
          "metadata": {},
          "execution_count": 3
        }
      ]
    },
    {
      "cell_type": "markdown",
      "source": [
        "Bu kod çalıştırıldığında scaler adında ve skaler türde bir tensör oluşturulur.\n",
        "\n",
        "- shape=() ifadesi, bu tensörün boyuta sahip olmadığını (yani 0-boyutlu olduğunu) belirtir.\n",
        "\n",
        "- dtype=int32, tensörün veri tipinin int32 olduğunu gösterir.\n",
        "\n",
        "- numpy=7, tensörün içinde yer alan değerin kendisini ifade eder.\n",
        "\n",
        "Ayrıca tensörle ilgili özellikleri tek tek elde etmek için şu kod parçacıkları kullanılabilir:"
      ],
      "metadata": {
        "id": "khMaSPJS4nnm"
      }
    },
    {
      "cell_type": "code",
      "source": [
        "print(scaler.ndim)     # 0 → boyut sayısı. Skaler tensörlerin boyutu 0 dır.\n",
        "print(scaler.shape)    # () → şekli. Skaler tensörleirn şekli boş kümedir.\n",
        "print(scaler.dtype)    # int32 → veri tipi\n",
        "print(scaler.numpy())  # 7 → tensör içeriği"
      ],
      "metadata": {
        "colab": {
          "base_uri": "https://localhost:8080/"
        },
        "id": "jsNoeoQW5T_6",
        "outputId": "5b0df8c7-fb3d-4fc1-9552-2d012d8a048e"
      },
      "execution_count": 8,
      "outputs": [
        {
          "output_type": "stream",
          "name": "stdout",
          "text": [
            "0\n",
            "()\n",
            "<dtype: 'int32'>\n",
            "7\n"
          ]
        }
      ]
    },
    {
      "cell_type": "markdown",
      "source": [
        "### Skaler (0-Boyutlu) Tensör – Özel Veri Tipi ile\n",
        "\n",
        "TensorFlow'da tensör tanımlarken, verinin veri tipi (dtype) isteğe bağlı olarak belirtilebilir.  \n",
        "Örneğin, aşağıdaki örnekte `int16` veri tipine sahip bir skaler tensör tanımlanmıştır:"
      ],
      "metadata": {
        "id": "tkPWHQlr8iT2"
      }
    },
    {
      "cell_type": "code",
      "source": [
        "scaler2 = tf.constant(42, dtype=tf.int16)\n",
        "print(scaler2)"
      ],
      "metadata": {
        "colab": {
          "base_uri": "https://localhost:8080/"
        },
        "id": "4kR43RKQ8kE4",
        "outputId": "c9498256-7bb7-4e7d-d536-c71649078c37"
      },
      "execution_count": 9,
      "outputs": [
        {
          "output_type": "stream",
          "name": "stdout",
          "text": [
            "tf.Tensor(42, shape=(), dtype=int16)\n"
          ]
        }
      ]
    },
    {
      "cell_type": "markdown",
      "source": [
        "Bu çıktıda:\n",
        "\n",
        "- shape=() → Bu tensörün skaler (0-boyutlu) olduğunu gösterir.\n",
        "\n",
        "- dtype=int16 → Bu tensörün veri tipinin 16-bit tamsayı olduğunu belirtir.\n",
        "\n",
        "- numpy=42 → Tensörün içinde yer alan sayısal değeri temsil eder."
      ],
      "metadata": {
        "id": "5f5DCOut8rhv"
      }
    }
  ]
}