{
  "nbformat": 4,
  "nbformat_minor": 0,
  "metadata": {
    "colab": {
      "provenance": [],
      "authorship_tag": "ABX9TyMjcujm5ZzRx0FmnnN3G7wi",
      "include_colab_link": true
    },
    "kernelspec": {
      "name": "python3",
      "display_name": "Python 3"
    },
    "language_info": {
      "name": "python"
    }
  },
  "cells": [
    {
      "cell_type": "markdown",
      "metadata": {
        "id": "view-in-github",
        "colab_type": "text"
      },
      "source": [
        "<a href=\"https://colab.research.google.com/github/kkaradag2/TensorFlow/blob/main/Basit_Kalori_Tahminleme.ipynb\" target=\"_parent\"><img src=\"https://colab.research.google.com/assets/colab-badge.svg\" alt=\"Open In Colab\"/></a>"
      ]
    },
    {
      "cell_type": "code",
      "execution_count": 11,
      "metadata": {
        "colab": {
          "base_uri": "https://localhost:8080/"
        },
        "id": "pvWcD52kLsLS",
        "outputId": "7f446ea6-adba-486a-de4b-3e37d9970c30"
      },
      "outputs": [
        {
          "output_type": "stream",
          "name": "stderr",
          "text": [
            "WARNING:tensorflow:5 out of the last 5 calls to <function TensorFlowTrainer.make_predict_function.<locals>.one_step_on_data_distributed at 0x7f934d459440> triggered tf.function retracing. Tracing is expensive and the excessive number of tracings could be due to (1) creating @tf.function repeatedly in a loop, (2) passing tensors with different shapes, (3) passing Python objects instead of tensors. For (1), please define your @tf.function outside of the loop. For (2), @tf.function has reduce_retracing=True option that can avoid unnecessary retracing. For (3), please refer to https://www.tensorflow.org/guide/function#controlling_retracing and https://www.tensorflow.org/api_docs/python/tf/function for  more details.\n"
          ]
        },
        {
          "output_type": "stream",
          "name": "stdout",
          "text": [
            "\u001b[1m1/1\u001b[0m \u001b[32m━━━━━━━━━━━━━━━━━━━━\u001b[0m\u001b[37m\u001b[0m \u001b[1m0s\u001b[0m 60ms/step\n",
            "Veri 1 için tahmin edilen kalori: 173.55\n",
            "Veri 2 için tahmin edilen kalori: 149.02\n",
            "Veri 3 için tahmin edilen kalori: 180.10\n",
            "Veri 4 için tahmin edilen kalori: 188.25\n"
          ]
        }
      ],
      "source": [
        "from tensorflow.keras.models import load_model\n",
        "import numpy as np\n",
        "\n",
        "# Modeli yükle (önce .h5 dosyasını Colab'a yüklemen gerekiyor)\n",
        "model = load_model('/content/kalori_model_final.h5', compile=False)\n",
        "\n",
        "\n",
        "# Test verisi: [sugar, fiber, protein]\n",
        "X_test = np.array([\n",
        "    [12, 2, 4],\n",
        "    [8, 3, 5],\n",
        "    [15, 1, 2],\n",
        "    [15, 1, 3]\n",
        "], dtype=float)\n",
        "\n",
        "# Tahmin yap\n",
        "predictions = model.predict(X_test)\n",
        "\n",
        "# Sonuçları yazdır\n",
        "for i, p in enumerate(predictions):\n",
        "    print(f\"Veri {i+1} için tahmin edilen kalori: {p[0]:.2f}\")\n"
      ]
    }
  ]
}