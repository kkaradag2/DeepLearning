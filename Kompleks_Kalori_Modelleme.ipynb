{
  "nbformat": 4,
  "nbformat_minor": 0,
  "metadata": {
    "colab": {
      "provenance": [],
      "toc_visible": true,
      "authorship_tag": "ABX9TyPZtK4eK8NYyxNRZ4CdYFnS",
      "include_colab_link": true
    },
    "kernelspec": {
      "name": "python3",
      "display_name": "Python 3"
    },
    "language_info": {
      "name": "python"
    }
  },
  "cells": [
    {
      "cell_type": "markdown",
      "metadata": {
        "id": "view-in-github",
        "colab_type": "text"
      },
      "source": [
        "<a href=\"https://colab.research.google.com/github/kkaradag2/DeepLearning/blob/main/Kompleks_Kalori_Modelleme.ipynb\" target=\"_parent\"><img src=\"https://colab.research.google.com/assets/colab-badge.svg\" alt=\"Open In Colab\"/></a>"
      ]
    },
    {
      "cell_type": "code",
      "execution_count": null,
      "metadata": {
        "id": "haywnLWukZY4"
      },
      "outputs": [],
      "source": []
    },
    {
      "cell_type": "markdown",
      "source": [
        "# Kalori Tahminleme Çalışması\n",
        "Bu notbook'da kaggle'den indirdiğim [cereal](https://www.kaggle.com/datasets/crawford/80-cereals) datasetini kullanarak bir model oluşturmayı deniyorum. Bu veri seti, ABD'de satılan 80 farklı kahvaltılık gevrek markasına ait çeşitli besin ve ürün bilgilerini içerir.\n",
        "\n",
        "## Ortam kurulumları\n",
        "Ortam kurulumu için gerekli kütüpaneler"
      ],
      "metadata": {
        "id": "heVVD-mHkjuM"
      }
    },
    {
      "cell_type": "code",
      "source": [
        "import pandas as pd"
      ],
      "metadata": {
        "id": "1z9BMK5Am2vu"
      },
      "execution_count": 1,
      "outputs": []
    },
    {
      "cell_type": "markdown",
      "source": [
        "**pandas**: veri işleme ve analizi için kullanılan bir kütüpane. DataFrame özelliği sayesinde yükleyeceğimiz csv dosyasında kolayca filitreleme, gruplama yapılabilir."
      ],
      "metadata": {
        "id": "B49HH0CYnFjZ"
      }
    },
    {
      "cell_type": "code",
      "source": [
        "import numpy as np"
      ],
      "metadata": {
        "id": "zaMJxn8uniRK"
      },
      "execution_count": 2,
      "outputs": []
    },
    {
      "cell_type": "markdown",
      "source": [
        "**Numpy**: Sayısay işlemleri ve dizler üzeirnd eişlemelr yapmamızı sağlayacak. Hızlı matrix işlemleri, matematiksel hesaplamalar, istatistiksel hesaplamalar yapabilmek için bir çok foksyon sağlıyor."
      ],
      "metadata": {
        "id": "MD6VhjL_nnrt"
      }
    },
    {
      "cell_type": "code",
      "source": [
        "import matplotlib.pyplot as plt"
      ],
      "metadata": {
        "id": "vG5r_-Ekn-HX"
      },
      "execution_count": 3,
      "outputs": []
    },
    {
      "cell_type": "markdown",
      "source": [
        "**matplotlib**: Görselleştirme ve grafikler için temel özellikler sağlayan kütüpane. Cizgi grafik, histogram vb.\n",
        "Örnek: `plt.plot()` veya `plt.bar()`"
      ],
      "metadata": {
        "id": "2yx_DmbroDaj"
      }
    },
    {
      "cell_type": "code",
      "source": [
        "import seaborn as sns"
      ],
      "metadata": {
        "id": "Scut6ezJomE2"
      },
      "execution_count": null,
      "outputs": []
    },
    {
      "cell_type": "markdown",
      "source": [
        "**Seaborn**: Matplotlib tabanlı, daha estetik ve gelişmiş grafikler sunan bir kütüphane. Kutu grafikleri (boxplot), violin grafikleri gibi analiz odaklı görseller üretmek için kullanılır."
      ],
      "metadata": {
        "id": "wXnd0s7GoucX"
      }
    },
    {
      "cell_type": "code",
      "source": [
        "from sklearn.model_selection import train_test_split"
      ],
      "metadata": {
        "id": "juo3a8VcpAS6"
      },
      "execution_count": null,
      "outputs": []
    },
    {
      "cell_type": "markdown",
      "source": [
        "**sklearn** kütüpanesinin bir modülü. Veri setini eğitim ve test olarak ayırmak için kullanılır.\n",
        "Örneğin: %70 eğitim, %30 test olarka ayırmak.\n",
        "\n",
        "Bir veri setini, eğitim ve tets olarak ayırmak sadece bir pratik değil aynı zamanda matematiksel ve istatiksel olarak çok önemli nedenleri vardır.\n",
        "\n",
        "## Modelin Başarısı\n",
        "Bir Modelin başarısı sadece öğrendiği verilere değil hiç karşılaşmadığı verilere verdiği doğru cevaplara bağlıdır. Buna modelin genelleme (generalization) kabiliyeti denilir.\n",
        "\n",
        "**Eğer tüm veriyi modele verirsen**:\n",
        "\n",
        "* Model veriyi ezberler (overfitting)\n",
        "\n",
        "* Yeni verilerde başarısız olur\n",
        "\n",
        "* Gerçek dünyadaki performansı yanlış tahmin edilir.\n",
        "\n",
        "Gerçek dünyada model, eğitimde gördüğü verilerle değil, yeni gelen örneklerle karşılaşacaktır. Bu nedenle başarısını sadece eğitim verisiyle değerlendirmek, modelin gerçek performansını yansıtmaz. Burada ölçülmek istenen şey:\n",
        "\n",
        "![image.png](data:image/png;base64,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)\n"
      ],
      "metadata": {
        "id": "u2KTVZPjpO8o"
      }
    },
    {
      "cell_type": "code",
      "source": [],
      "metadata": {
        "id": "Oirz8n0PqwOc"
      },
      "execution_count": null,
      "outputs": []
    },
    {
      "cell_type": "markdown",
      "source": [
        "f\n",
        "^\n",
        "​(x): öğrenilen model fonksiyonu\n",
        "\n",
        "P(x,y): bilinmeyen gerçek veri dağılımı\n",
        "\n",
        "### Test Verisi ile Yaklaşım\n",
        "Gerçek dağılım bilinmediği için bu beklenti (expected value), test verisi üzerinden tahmini hata (test error) ile yaklaşık olarak hesaplanır\n",
        "![image.png](data:image/png;base64,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)"
      ],
      "metadata": {
        "id": "1m2-Ujb_rouk"
      }
    },
    {
      "cell_type": "markdown",
      "source": [
        "### Oranlar Neden %80 / %20 ya da %70 / %30?\n",
        "%80 eğitim, %20 test gibi oranlar, öğrenme başarısı ile değerlendirme doğruluğu arasında denge sağlar. Veirnin tamamıyla eğitim vermek modelin veriyi ezberlemesine nedne olur ve sonradan gelecek dış verilerde doğru ve tutarlı tahminler yapmasını engeller."
      ],
      "metadata": {
        "id": "5xcwiWdasSxi"
      }
    },
    {
      "cell_type": "code",
      "source": [
        "from sklearn.preprocessing import StandardScaler"
      ],
      "metadata": {
        "id": "923Qssk-tgEX"
      },
      "execution_count": null,
      "outputs": []
    },
    {
      "cell_type": "markdown",
      "source": [],
      "metadata": {
        "id": "684dVj6at4Px"
      }
    }
  ]
}